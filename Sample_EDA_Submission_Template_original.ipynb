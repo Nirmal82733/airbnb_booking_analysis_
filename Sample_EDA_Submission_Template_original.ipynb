{
  "nbformat": 4,
  "nbformat_minor": 0,
  "metadata": {
    "colab": {
      "private_outputs": true,
      "provenance": [],
      "collapsed_sections": [
        "FJNUwmbgGyua",
        "w6K7xa23Elo4",
        "yQaldy8SH6Dl",
        "PH-0ReGfmX4f",
        "mDgbUHAGgjLW",
        "HhfV-JJviCcP",
        "3RnN4peoiCZX",
        "x71ZqKXriCWQ",
        "7hBIi_osiCS2",
        "35m5QtbWiB9F",
        "PoPl-ycgm1ru",
        "H0kj-8xxnORC",
        "nA9Y7ga8ng1Z",
        "PBTbrJXOngz2",
        "dauF4eBmngu3",
        "bKJF3rekwFvQ",
        "aFcw7d-YoBv6",
        "K5QZ13OEpz2H",
        "lQ7QKXXCp7Bj",
        "V9OJWp37ocgY",
        "_qDEX2ESolcI",
        "iky9q4vBYrdO",
        "F6T5p64dYrdO",
        "y-Ehk30pYrdP",
        "QHF8YVU7Yuh3",
        "GwzvFGzlYuh3",
        "qYpmQ266Yuh3",
        "bbFf2-_FphqN",
        "_ouA3fa0phqN",
        "Seke61FWphqN",
        "t27r6nlMphqO",
        "r2jJGEOYphqO",
        "b0JNsNcRphqO",
        "jj7wYXLtphqO",
        "eZrbJ2SmphqO",
        "rFu4xreNphqO",
        "gCFgpxoyphqP",
        "OVtJsKN_phqQ",
        "lssrdh5qphqQ",
        "1M8mcRywphqQ",
        "tgIPom80phqQ",
        "JMzcOPDDphqR",
        "x-EpHcCOp1ci",
        "X_VqEhTip1ck",
        "8zGJKyg5p1ck",
        "PVzmfK_Ep1ck",
        "n3dbpmDWp1ck",
        "ylSl6qgtp1ck",
        "ZWILFDl5p1ck",
        "M7G43BXep1ck",
        "E6MkPsBcp1cl",
        "2cELzS2fp1cl",
        "3MPXvC8up1cl",
        "NC_X3p0fY2L0",
        "UV0SzAkaZNRQ",
        "YPEH6qLeZNRQ",
        "q29F0dvdveiT",
        "EXh0U9oCveiU",
        "22aHeOlLveiV",
        "JcMwzZxoAimU",
        "8G2x9gOozGDZ",
        "gCX9965dhzqZ",
        "gIfDvo9L0UH2"
      ],
      "cell_execution_strategy": "setup",
      "include_colab_link": true
    },
    "kernelspec": {
      "name": "python3",
      "display_name": "Python 3"
    },
    "language_info": {
      "name": "python"
    }
  },
  "cells": [
    {
      "cell_type": "markdown",
      "metadata": {
        "id": "view-in-github",
        "colab_type": "text"
      },
      "source": [
        "<a href=\"https://colab.research.google.com/github/Nirmal82733/airbnb_booking_analysis_/blob/main/Sample_EDA_Submission_Template_original.ipynb\" target=\"_parent\"><img src=\"https://colab.research.google.com/assets/colab-badge.svg\" alt=\"Open In Colab\"/></a>"
      ]
    },
    {
      "cell_type": "markdown",
      "source": [
        "# Project Name    -   **Airbnb Booking Analysis**\n",
        "\n",
        "\n",
        "\n",
        "\n",
        "\n",
        "\n"
      ],
      "metadata": {
        "id": "vncDsAP0Gaoa"
      }
    },
    {
      "cell_type": "markdown",
      "source": [
        "##### **Project Type**    - EDA\n",
        "##### **Contribution**    - Individual"
      ],
      "metadata": {
        "id": "beRrZCGUAJYm"
      }
    },
    {
      "cell_type": "markdown",
      "source": [
        "# **Project Summary -**  \n"
      ],
      "metadata": {
        "id": "FJNUwmbgGyua"
      }
    },
    {
      "cell_type": "markdown",
      "source": [
        "**Since its inception in 2008, Airbnb has revolutionized travel by offering personalized and diverse lodging options worldwide. Today, it stands as a one-of-a-kind service with global recognition. The abundance of data from millions of listings is a cornerstone for Airbnb, enabling vital applications such as security measures, strategic decision-making, insights into customer and host behavior, targeted marketing efforts, and the introduction of innovative services to enhance the user experience.**"
      ],
      "metadata": {
        "id": "F6v_1wHtG2nS"
      }
    },
    {
      "cell_type": "markdown",
      "source": [
        "# **GitHub Link -**"
      ],
      "metadata": {
        "id": "w6K7xa23Elo4"
      }
    },
    {
      "cell_type": "markdown",
      "source": [
        "Provide your GitHub Link here.\n",
        "\n",
        "https://github.com/Nirmal82733/airbnb_booking_analysis_"
      ],
      "metadata": {
        "id": "h1o69JH3Eqqn"
      }
    },
    {
      "cell_type": "markdown",
      "source": [
        "# **Problem Statement**\n"
      ],
      "metadata": {
        "id": "yQaldy8SH6Dl"
      }
    },
    {
      "cell_type": "markdown",
      "source": [
        "**Write Problem Statement Here.**\n",
        "\n",
        "1-What insights can be gleaned from analyzing diverse hosts and their respective neighborhoods?\n",
        "\n",
        "2-How does room type impact pricing in different geographical areas, and what can be inferred from this analysis?\n",
        "\n",
        "3-What valuable data can be extracted from the dataset, such as geographical information, pricing trends, guest reviews, and more?\n",
        "\n",
        "4-Who are the most occupied hosts, and what factors contribute to their busy schedules on the platform?\n",
        "\n",
        "5-Which hosts set higher prices for their listings, and what factors may influence these elevated rates?\n",
        "\n",
        "6-Are there any discrepancies in listing traffic across different areas, and what could be the underlying reasons for these variations?\n",
        "\n",
        "7-What is the distribution of room types across different neighborhood groups?\n",
        "\n",
        "8-How does the number of reviews correlate with the availability of listings?\n",
        "\n",
        "9-What is the relationship between minimum nights required and pricing?\n",
        "\n",
        "10-How does the reviews per month metric vary across different room types and neighborhood groups?\n",
        "\n",
        "11-What is the average price trend over the course of the year for each neighborhood group?\n",
        "\n",
        "12-Are there any patterns in the distribution of listings based on host verification status?\n",
        "\n",
        "13-How do the prices of listings with various amenities compare to those without?\n",
        "\n",
        "14-What correlations exist between different variables in the dataset, and can they unveil meaningful insights?\n",
        "\n",
        "15-How do the counts of various room types add up across all of New York City, as per the provided listings?"
      ],
      "metadata": {
        "id": "DpeJGUA3kjGy"
      }
    },
    {
      "cell_type": "markdown",
      "source": [
        "#### **Define Your Business Objective?**"
      ],
      "metadata": {
        "id": "PH-0ReGfmX4f"
      }
    },
    {
      "cell_type": "markdown",
      "source": [
        "Answer Here.\n",
        "\n",
        " ***This project aims to explore an Airbnb dataset to gain valuable insights into guest preferences and neighborhood popularity. Utilizing Python libraries like Pandas, Matplotlib, Seaborn, and NumPy, we will analyze room type preferences, compare the popularity of different neighborhoods, and provide meaningful findings to inform business strategies and improve the overall Airbnb platform.***"
      ],
      "metadata": {
        "id": "PhDvGCAqmjP1"
      }
    },
    {
      "cell_type": "markdown",
      "source": [
        "# **General Guidelines** : -  "
      ],
      "metadata": {
        "id": "mDgbUHAGgjLW"
      }
    },
    {
      "cell_type": "markdown",
      "source": [
        "1.   Well-structured, formatted, and commented code is required.\n",
        "2.   Exception Handling, Production Grade Code & Deployment Ready Code will be a plus. Those students will be awarded some additional credits.\n",
        "     \n",
        "     The additional credits will have advantages over other students during Star Student selection.\n",
        "       \n",
        "             [ Note: - Deployment Ready Code is defined as, the whole .ipynb notebook should be executable in one go\n",
        "                       without a single error logged. ]\n",
        "\n",
        "3.   Each and every logic should have proper comments.\n",
        "4. You may add as many number of charts you want. Make Sure for each and every chart the following format should be answered.\n",
        "        \n",
        "\n",
        "```\n",
        "# Chart visualization code\n",
        "```\n",
        "            \n",
        "\n",
        "*   Why did you pick the specific chart?\n",
        "*   What is/are the insight(s) found from the chart?\n",
        "* Will the gained insights help creating a positive business impact?\n",
        "Are there any insights that lead to negative growth? Justify with specific reason.\n",
        "\n",
        "5. You have to create at least 20 logical & meaningful charts having important insights.\n",
        "\n",
        "\n",
        "[ Hints : - Do the Vizualization in  a structured way while following \"UBM\" Rule.\n",
        "\n",
        "U - Univariate Analysis,\n",
        "\n",
        "B - Bivariate Analysis (Numerical - Categorical, Numerical - Numerical, Categorical - Categorical)\n",
        "\n",
        "M - Multivariate Analysis\n",
        " ]\n",
        "\n",
        "\n",
        "\n"
      ],
      "metadata": {
        "id": "ZrxVaUj-hHfC"
      }
    },
    {
      "cell_type": "markdown",
      "source": [
        "# ***Let's Begin !***"
      ],
      "metadata": {
        "id": "O_i_v8NEhb9l"
      }
    },
    {
      "cell_type": "markdown",
      "source": [
        "## ***1. Know Your Data***"
      ],
      "metadata": {
        "id": "HhfV-JJviCcP"
      }
    },
    {
      "cell_type": "markdown",
      "source": [
        "### Import Libraries"
      ],
      "metadata": {
        "id": "Y3lxredqlCYt"
      }
    },
    {
      "cell_type": "code",
      "source": [
        "# Import Libraries\n",
        "import pandas as pd\n",
        "import numpy as np\n",
        "import matplotlib.pyplot as plt\n",
        "import seaborn as sns\n",
        "%matplotlib inline"
      ],
      "metadata": {
        "id": "M8Vqi-pPk-HR"
      },
      "execution_count": null,
      "outputs": []
    },
    {
      "cell_type": "markdown",
      "source": [
        "### Dataset Loading"
      ],
      "metadata": {
        "id": "3RnN4peoiCZX"
      }
    },
    {
      "cell_type": "code",
      "source": [
        "# Load Dataset\n",
        "from google.colab import drive\n",
        "drive.mount('/content/drive')\n",
        "\n"
      ],
      "metadata": {
        "id": "4CkvbW_SlZ_R"
      },
      "execution_count": null,
      "outputs": []
    },
    {
      "cell_type": "markdown",
      "source": [
        "### Dataset First View"
      ],
      "metadata": {
        "id": "x71ZqKXriCWQ"
      }
    },
    {
      "cell_type": "code",
      "source": [
        "# Dataset First Look\n",
        "df = pd.read_csv(\"/content/drive/MyDrive/Airbnb NYC 2019.csv\")\n",
        "df"
      ],
      "metadata": {
        "id": "LWNFOSvLl09H"
      },
      "execution_count": null,
      "outputs": []
    },
    {
      "cell_type": "markdown",
      "source": [
        "### Dataset Rows & Columns count"
      ],
      "metadata": {
        "id": "7hBIi_osiCS2"
      }
    },
    {
      "cell_type": "code",
      "source": [
        "# Dataset Rows & Columns count\n",
        "num_rows, num_columns=df.shape\n",
        "print(df.shape)"
      ],
      "metadata": {
        "id": "Kllu7SJgmLij"
      },
      "execution_count": null,
      "outputs": []
    },
    {
      "cell_type": "markdown",
      "source": [
        "### Dataset Information"
      ],
      "metadata": {
        "id": "JlHwYmJAmNHm"
      }
    },
    {
      "cell_type": "code",
      "source": [
        "# Dataset Info\n",
        "df.info()"
      ],
      "metadata": {
        "id": "e9hRXRi6meOf"
      },
      "execution_count": null,
      "outputs": []
    },
    {
      "cell_type": "markdown",
      "source": [
        "#### Duplicate Values"
      ],
      "metadata": {
        "id": "35m5QtbWiB9F"
      }
    },
    {
      "cell_type": "code",
      "source": [
        "# Dataset Duplicate Value Count\n",
        "duplicates=df.duplicated().sum()\n",
        "print(duplicates)"
      ],
      "metadata": {
        "id": "1sLdpKYkmox0"
      },
      "execution_count": null,
      "outputs": []
    },
    {
      "cell_type": "markdown",
      "source": [
        "#### Missing Values/Null Values"
      ],
      "metadata": {
        "id": "PoPl-ycgm1ru"
      }
    },
    {
      "cell_type": "code",
      "source": [
        "# Missing Values/Null Values Count\n",
        "missing_number=df.isnull().sum()\n",
        "print(missing_number)"
      ],
      "metadata": {
        "id": "GgHWkxvamxVg"
      },
      "execution_count": null,
      "outputs": []
    },
    {
      "cell_type": "code",
      "source": [
        "# Visualizing the missing values\n",
        "missing_values_data = pd.DataFrame({'Column': ['last_review', 'reviews_per_month', 'host_name', 'name'],\n",
        "                                    'Missing_Values': [10052, 10052, 21, 16]})\n",
        "\n",
        "# Define custom colors for each bar\n",
        "bar_colors = ['blue', 'orange', 'green', 'red']\n",
        "\n",
        "plt.figure(figsize=(8, 6))\n",
        "\n",
        "# Plot the bar chart for the specific columns\n",
        "plt.bar(missing_values_data['Column'], missing_values_data['Missing_Values'], color=bar_colors)\n",
        "\n",
        "plt.xlabel('Columns')\n",
        "plt.ylabel('Number of Missing Values')\n",
        "plt.title('Missing Values in Each Column')\n",
        "plt.show()"
      ],
      "metadata": {
        "id": "Qy7ridWaXoZm"
      },
      "execution_count": null,
      "outputs": []
    },
    {
      "cell_type": "markdown",
      "source": [
        "### What did you know about your dataset?"
      ],
      "metadata": {
        "id": "H0kj-8xxnORC"
      }
    },
    {
      "cell_type": "markdown",
      "source": [
        "Answer Here\n",
        "* The dataset has 48,895 entries with 16 columns.\n",
        "\n",
        "* There are no duplicate values in the dataset.\n",
        "\n",
        "* The dataset contains missing values (null values) in some columns:\n",
        "\n",
        "      'name' has 16 missing values.\n",
        "      'host_name' has 21 missing values.\n",
        "      'last_review' has 10,052 missing values.\n",
        "      'reviews_per_month' has 10,052 missing values.\n",
        "* To visualize the missing values, the code generates a bar plot showing the count of missing values in each column. The plot helps to identify which columns have the most missing values."
      ],
      "metadata": {
        "id": "gfoNAAC-nUe_"
      }
    },
    {
      "cell_type": "markdown",
      "source": [
        "## ***2. Understanding Your Variables***"
      ],
      "metadata": {
        "id": "nA9Y7ga8ng1Z"
      }
    },
    {
      "cell_type": "code",
      "source": [
        "# Dataset Columns\n",
        "df.columns"
      ],
      "metadata": {
        "id": "j7xfkqrt5Ag5"
      },
      "execution_count": null,
      "outputs": []
    },
    {
      "cell_type": "code",
      "source": [
        "# Dataset Describe\n",
        "df.describe()"
      ],
      "metadata": {
        "id": "DnOaZdaE5Q5t"
      },
      "execution_count": null,
      "outputs": []
    },
    {
      "cell_type": "markdown",
      "source": [
        "### Variables Description"
      ],
      "metadata": {
        "id": "PBTbrJXOngz2"
      }
    },
    {
      "cell_type": "markdown",
      "source": [
        "Answer Here\n",
        "\n",
        "**id**: Unique identifier for each listing.\n",
        "\n",
        "**name**: Name of the listing.\n",
        "\n",
        "**host_id**: Unique identifier for each host.\n",
        "\n",
        "**host_name**: Name of the host.\n",
        "\n",
        "**neighbourhood_group**: The borough or region in which the listing is located (e.g., Manhattan, Brooklyn, etc.).\n",
        "\n",
        "**neighbourhood**: The specific neighborhood within the borough where the listing is situated.\n",
        "\n",
        "**latitude**: Latitude coordinate of the listing's location.\n",
        "\n",
        "**longitude**: Longitude coordinate of the listing's location.\n",
        "\n",
        "**room_type**: Type of listing (e.g., Entire home/apt, Private room, Shared room, etc.).\n",
        "\n",
        "**price**: Price of the listing per night.\n",
        "\n",
        "**minimum_nights**: Minimum number of nights required to book the listing.\n",
        "\n",
        "**number_of_reviews**: Total number of reviews for the listing.\n",
        "\n",
        "**last_review**: Date of the last review for the listing.\n",
        "\n",
        "**reviews_per_month**: Average number of reviews per month for the listing.\n",
        "\n",
        "**calculated_host_listings_count**: Total number of listings managed by the host.\n",
        "\n",
        "**availability_365**: Number of days the listing is available for booking within the next 365 days.\n",
        "\n",
        "These variables provide important information about each Airbnb listing, including details about the property, its location, room type, pricing, host information, and review metrics. Understanding these variables can help in performing data analysis and gaining insights into various aspects of the Airbnb platform and its listings.\n",
        "\n",
        "\n",
        "\n",
        "\n"
      ],
      "metadata": {
        "id": "aJV4KIxSnxay"
      }
    },
    {
      "cell_type": "markdown",
      "source": [
        "### Check Unique Values for each variable."
      ],
      "metadata": {
        "id": "u3PMJOP6ngxN"
      }
    },
    {
      "cell_type": "code",
      "source": [
        "# Check Unique Values for each variable."
      ],
      "metadata": {
        "id": "zms12Yq5n-jE"
      },
      "execution_count": null,
      "outputs": []
    },
    {
      "cell_type": "markdown",
      "source": [
        "## 3. ***Data Wrangling***"
      ],
      "metadata": {
        "id": "dauF4eBmngu3"
      }
    },
    {
      "cell_type": "markdown",
      "source": [
        "### Data Wrangling Code"
      ],
      "metadata": {
        "id": "bKJF3rekwFvQ"
      }
    },
    {
      "cell_type": "code",
      "source": [
        "# Drop duplicates (if any) based on all columns\n",
        "df.drop_duplicates(inplace=True)"
      ],
      "metadata": {
        "id": "HAmr8sHDJ9oz"
      },
      "execution_count": null,
      "outputs": []
    },
    {
      "cell_type": "code",
      "source": [
        "# Drop rows with null values in 'name' and 'host_name' columns\n",
        "df.dropna(subset=['name', 'host_name'], inplace=True)"
      ],
      "metadata": {
        "id": "xvjUfTS1KJBc"
      },
      "execution_count": null,
      "outputs": []
    },
    {
      "cell_type": "code",
      "source": [
        "# Define the values to fill missing values\n",
        "last_review_fill_value = 'N/A'\n",
        "reviews_per_month_fill_value = 0\n",
        "\n",
        "# Fill missing values in 'last_review' and 'reviews_per_month' columns\n",
        "df['last_review'].fillna(last_review_fill_value, inplace=True)\n",
        "df['reviews_per_month'].fillna(reviews_per_month_fill_value, inplace=True)"
      ],
      "metadata": {
        "id": "naIsHDOK6VR4"
      },
      "execution_count": null,
      "outputs": []
    },
    {
      "cell_type": "code",
      "source": [
        "# Print the count of null values after handling them\n",
        "null_counts = df.isnull().sum()\n",
        "print(null_counts)"
      ],
      "metadata": {
        "id": "GpZCjbfH6h2w"
      },
      "execution_count": null,
      "outputs": []
    },
    {
      "cell_type": "code",
      "source": [
        "df['total_reviews_1'] = df['number_of_reviews'] + df['reviews_per_month']\n",
        "df.head()"
      ],
      "metadata": {
        "id": "-XXLgxfJNCLQ"
      },
      "execution_count": null,
      "outputs": []
    },
    {
      "cell_type": "code",
      "source": [
        "#Data exploration: Bar plot for room_type distribution\n",
        "plt.figure(figsize=(8, 6))\n",
        "df['room_type'].value_counts().plot(kind='bar')\n",
        "plt.xlabel('Room Type')\n",
        "plt.ylabel('Count')\n",
        "plt.title('Room Type Distribution')\n",
        "plt.show()"
      ],
      "metadata": {
        "id": "SF3m7C5VPC1H"
      },
      "execution_count": null,
      "outputs": []
    },
    {
      "cell_type": "code",
      "source": [
        "#Calculate the correlation between 'price' and 'number_of_reviews'\n",
        "correlation = df['price'].corr(df['number_of_reviews'])\n",
        "print(\"Correlation between 'price' and 'number_of_reviews':\", correlation)"
      ],
      "metadata": {
        "id": "DZCqaWaAOqVj"
      },
      "execution_count": null,
      "outputs": []
    },
    {
      "cell_type": "markdown",
      "source": [
        "### What all manipulations have you done and insights you found?\n",
        "Answer Here.\n",
        "\n",
        "**Handling Missing Values and Duplicates**:\n",
        "* df.dropna(subset=['name', 'host_name'], inplace=True): This code drops rows from the DataFrame df where the 'name' or 'host_name' column has null values. This ensures that rows with missing values in these columns are removed from the dataset.\n",
        "* df.drop_duplicates(inplace=True): This code drops duplicate rows from the DataFrame df based on all columns. This helps to ensure that the dataset contains only unique rows and eliminates any redundant entries.\n",
        "\n",
        "**Handling Missing Values in Specific Columns**:\n",
        "* df['last_review'].fillna('N/A', inplace=True): This code fills the missing values in the 'last_review' column with the string 'N/A'. This allows us to retain the rows with missing 'last_review' values while providing a meaningful placeholder for analysis.\n",
        "* df['reviews_per_month'].fillna(0, inplace=True): This code fills the missing values in the 'reviews_per_month' column with 0. By doing this, we preserve the rows with missing 'reviews_per_month' values while treating them as having no reviews per month.\n",
        "\n",
        "**Printing Count of Null Values**:\n",
        "* null_counts = df.isnull().sum(): This code calculates the count of null values in each column of the DataFrame df. It helps us identify which columns have missing data and how many missing values there are for each column.\n",
        "\n",
        "**Creating a New Column for Total Reviews**:\n",
        "* df['total_reviews_1'] = df['number_of_reviews'] + df['reviews_per_month']: This code creates a new column called 'total_reviews_1' in the DataFrame df, where each value is the sum of 'number_of_reviews' and 'reviews_per_month'. This new column provides a combined metric for total reviews, taking into account both the number of reviews and the reviews per month.\n",
        "\n",
        "**Calculating Correlation Between Price and Number of Reviews**:\n",
        "* correlation = df['price'].corr(df['number_of_reviews']): This code calculates the correlation coefficient between the 'price' and 'number_of_reviews' columns in the DataFrame df. It helps us understand the relationship between the price of listings and the number of reviews they receive.\n",
        "\n",
        "**Data Exploration: Bar Plot for Room Type Distribution**:\n",
        "This code generates a bar plot to visualize the distribution of room types in the DataFrame df. The bar plot shows the count of each room type, allowing us to see which type of listing is most prevalent in the dataset.\n",
        "\n",
        "#*Overall, the manipulations performed on the dataset involved handling missing values, dropping duplicates, and creating new columns for additional insights. The data exploration techniques, such as correlation analysis and bar plots, provide valuable insights into the relationships between different variables and the distribution of room types in the dataset. These insights can be helpful in understanding the dataset, identifying trends, and making data-driven decisions in an Airbnb data analysis project.*#\n"
      ],
      "metadata": {
        "id": "MSa1f5Uengrz"
      }
    },
    {
      "cell_type": "markdown",
      "source": [
        "## ***4. Data Vizualization, Storytelling & Experimenting with charts : Understand the relationships between variables***"
      ],
      "metadata": {
        "id": "GF8Ens_Soomf"
      }
    },
    {
      "cell_type": "markdown",
      "source": [
        "#### Chart - 1"
      ],
      "metadata": {
        "id": "0wOQAZs5pc--"
      }
    },
    {
      "cell_type": "markdown",
      "source": [
        "####**What insights can be gleaned from analyzing diverse hosts and their respective neighborhoods?**"
      ],
      "metadata": {
        "id": "aFcw7d-YoBv6"
      }
    },
    {
      "cell_type": "code",
      "source": [
        "# Chart - 1 visualization code\n",
        "host_areas = df.groupby(['host_name', 'neighbourhood_group'])['calculated_host_listings_count'].max().reset_index()\n",
        "\n",
        "# Sorting the data in descending order based on the calculated_host_listings_count\n",
        "host_areas_sorted = host_areas.sort_values(by='calculated_host_listings_count', ascending=False).head(5)\n",
        "\n",
        "colors = ['red', 'green', 'blue', 'orange', 'purple']\n",
        "\n",
        "# Creating a bar plot to visualize the top 5 hosts with the highest calculated_host_listings_count\n",
        "plt.figure(figsize=(10, 6))\n",
        "plt.bar(\n",
        "    x=host_areas_sorted['host_name'] + ' (' + host_areas_sorted['neighbourhood_group'] + ')',\n",
        "    height=host_areas_sorted['calculated_host_listings_count'],\n",
        "    color=colors  # Assigning the colors to the bars\n",
        ")\n",
        "plt.xlabel('Host Name (Neighborhood Group)')\n",
        "plt.ylabel('Calculated Host Listings Count')\n",
        "plt.title('Top 5 Hosts with Highest Calculated Host Listings Count')\n",
        "plt.xticks(rotation=45, ha='right')\n",
        "plt.tight_layout()\n",
        "plt.show()\n"
      ],
      "metadata": {
        "id": "f8dQRggYPPdU"
      },
      "execution_count": null,
      "outputs": []
    },
    {
      "cell_type": "markdown",
      "source": [
        "##### 1. Why did you pick the specific chart?"
      ],
      "metadata": {
        "id": "K5QZ13OEpz2H"
      }
    },
    {
      "cell_type": "markdown",
      "source": [
        "\n",
        "\n",
        "```\n",
        "# This is formatted as code\n",
        "```\n",
        "\n",
        "Answer Here.\n",
        "\n",
        "I chose the bar plot as the specific chart for visualizing the top hosts with the highest calculated host listings count in different neighborhood groups for several reasons:\n",
        "\n",
        "**Comparison of Numerical Values**: The bar plot is an effective way to compare numerical values (i.e., the calculated host listings count) across different categories (i.e., hosts in different neighborhood groups). Each bar represents a host, and the height of the bar directly corresponds to the calculated host listings count, making it easy to compare the values visually.\n",
        "\n",
        "**Top Ranking**: The bar plot allows us to highlight the top hosts with the highest calculated host listings count by sorting the data in descending order. This way, it is clear which hosts have the most listings and their relative positions.\n",
        "\n",
        "**Categorical and Numerical Data**: The bar plot can handle both categorical data (host names and neighborhood groups) and numerical data (calculated host listings count), making it suitable for representing the relationship between hosts and their listings count in different neighborhoods.\n",
        "\n",
        "**Clear Labels**: By rotating the x-axis labels and using proper formatting, we can ensure that the host names and neighborhood groups are clearly visible, making it easier to interpret the chart.\n",
        "\n",
        "**Readability**: Bar plots are generally easy to read and interpret, making them accessible to a wide range of audiences, including non-technical stakeholders.\n",
        "\n",
        "Overall, the bar plot is a straightforward and effective choice for visualizing the top hosts with the highest calculated host listings count in different neighborhood groups, allowing us to quickly grasp insights from the data and identify patterns related to prolific hosts in various areas."
      ],
      "metadata": {
        "id": "XESiWehPqBRc"
      }
    },
    {
      "cell_type": "markdown",
      "source": [
        "##### 2. What is/are the insight(s) found from the chart?"
      ],
      "metadata": {
        "id": "lQ7QKXXCp7Bj"
      }
    },
    {
      "cell_type": "markdown",
      "source": [
        "Answer Here\n",
        "\n",
        "The insight(s) that can be derived from the chart of the top hosts with the highest calculated host listings count in different neighborhood groups are:\n",
        "\n",
        "**Prolific Hosts Identification**: The chart clearly identifies the top 5 hosts who have the highest calculated host listings count. These hosts stand out as the most prolific ones on the Airbnb platform within their respective neighborhood groups.\n",
        "\n",
        "**Distribution Across Neighborhood Groups**: By grouping the hosts based on their neighborhood groups, the chart allows us to observe the distribution of these top hosts across different areas of the city. This can provide insights into the popularity of certain hosts in specific neighborhoods.\n",
        "\n",
        "**Hosts with Multiple Listings**: The chart highlights hosts who manage multiple listings, indicating that they might be experienced and successful in providing accommodations on the platform.\n",
        "\n",
        "**Competitiveness in Certain Neighborhoods**: The comparison between hosts within the same neighborhood group can offer insights into the level of competitiveness among hosts in specific areas. For example, if multiple hosts in one neighborhood group have a high number of listings, it might indicate a competitive market in that area.\n",
        "\n",
        "**Influence on the Airbnb Ecosystem**: These top hosts with a significant number of listings can have a considerable impact on the Airbnb ecosystem. They potentially play a crucial role in meeting the accommodation demands of travelers in their respective neighborhood groups.\n",
        "\n",
        "**Business Opportunities**: The chart might also highlight potential business opportunities for hosts who aim to expand their listings or enter new neighborhoods with less competition. Analyzing the top hosts' strategies and their success in various neighborhoods could provide valuable insights for others looking to thrive in the Airbnb market."
      ],
      "metadata": {
        "id": "C_j1G7yiqdRP"
      }
    },
    {
      "cell_type": "markdown",
      "source": [
        "##### 3. Will the gained insights help creating a positive business impact?\n",
        "Are there any insights that lead to negative growth? Justify with specific reason."
      ],
      "metadata": {
        "id": "448CDAPjqfQr"
      }
    },
    {
      "cell_type": "markdown",
      "source": [
        "Answer Here\n",
        "\n",
        "The gained insights from analyzing the top hosts with the highest calculated host listings count can potentially help create a positive business impact for both hosts and Airbnb as a platform. However, it is essential to keep in mind that the positive or negative impact would depend on how the insights are used and implemented. Here's a breakdown of the potential impacts:\n",
        "\n",
        "**Positive Business Impact**:\n",
        "Optimizing Listing Strategy: The insights can help hosts understand the factors contributing to the success of top hosts. They can use this information to optimize their listing strategies, such as pricing, amenities, and guest experience, to attract more bookings and improve their performance on the platform.\n",
        "\n",
        "**Enhancing Guest Experience**: Prolific hosts with multiple listings may have a proven track record of providing excellent guest experiences. Other hosts can learn from their best practices and implement improvements to enhance guest satisfaction, leading to positive reviews and repeat bookings.\n",
        "\n",
        "**Encouraging Expansion**: The data might reveal specific neighborhoods where top hosts are dominating the market. This insight can motivate other hosts to explore these areas and potentially expand their business to underserved locations, diversifying Airbnb's offerings and improving accommodation options for travelers.\n",
        "\n",
        "**Business Strategy for Airbnb**: Airbnb can use insights from successful hosts to refine its platform features and services. Understanding what drives top hosts' success can lead to the implementation of new features or marketing initiatives that benefit hosts and guests alike.\n",
        "\n",
        "#**Insights with Potential Negative Growth**:\n",
        "\n",
        "While the insights themselves may not directly lead to negative growth, their misuse or misinterpretation could have adverse effects:\n",
        "\n",
        "**Competition and Oversaturation**: Hosts might flock to the same neighborhoods identified as successful for top hosts, leading to increased competition and oversaturation in those areas. This could result in lower occupancy rates and reduced profitability for individual hosts.\n",
        "\n",
        "**Quality Overlooked**: Focusing solely on the number of listings might lead some hosts to prioritize quantity over quality. Overburdening themselves with multiple listings might compromise their ability to deliver excellent guest experiences, leading to negative reviews and decreased bookings.\n",
        "\n",
        "**Neglecting Unique Neighborhoods**: While the insights might highlight popular neighborhoods with high demand, they could inadvertently draw attention away from unique and lesser-known areas. This could result in missed opportunities for hosts in off-the-beaten-path locations.\n",
        "\n",
        "To maximize the positive impact and mitigate potential negative outcomes, hosts and Airbnb should approach the gained insights with a balanced strategy. Emphasizing guest satisfaction, continuous improvement, and sustainable growth can lead to a positive business impact for all stakeholders involved. Additionally, it's crucial to consider the broader context of the entire Airbnb ecosystem and local regulations to ensure responsible and ethical business practices.\n"
      ],
      "metadata": {
        "id": "3cspy4FjqxJW"
      }
    },
    {
      "cell_type": "markdown",
      "source": [
        "#### Chart - 2"
      ],
      "metadata": {
        "id": "KSlN3yHqYklG"
      }
    },
    {
      "cell_type": "markdown",
      "source": [
        "####**How does room type impact pricing in different geographical areas, and what can be inferred from this analysis?**"
      ],
      "metadata": {
        "id": "V9OJWp37ocgY"
      }
    },
    {
      "cell_type": "code",
      "source": [
        "columns_to_use = ['neighbourhood_group', 'room_type', 'price']\n",
        "\n",
        "# Data Exploration\n",
        "grouped_data = df.groupby(['neighbourhood_group', 'room_type'])\n",
        "price_summary = grouped_data['price'].mean()  # Calculate mean price for each room type in each neighborhood group\n",
        "\n",
        "# Convert price_summary to DataFrame for easy plotting\n",
        "price_summary_df = price_summary.reset_index()\n",
        "\n",
        "# Visualization - Bar graph\n",
        "plt.figure(figsize=(10, 6))\n",
        "sns.barplot(data=price_summary_df, x='neighbourhood_group', y='price', hue='room_type', palette='colorblind')\n",
        "plt.title('Average Price of Room Types in Different Geographical Areas')\n",
        "plt.xlabel('Neighbourhood Group')\n",
        "plt.ylabel('Average Price')\n",
        "plt.xticks(rotation=45, ha='right')\n",
        "plt.tight_layout()\n",
        "plt.show()"
      ],
      "metadata": {
        "id": "y2RfjDdTeKpv"
      },
      "execution_count": null,
      "outputs": []
    },
    {
      "cell_type": "markdown",
      "source": [
        "##### 1. Why did you pick the specific chart?"
      ],
      "metadata": {
        "id": "t6dVpIINYklI"
      }
    },
    {
      "cell_type": "markdown",
      "source": [
        "Answer Here.\n",
        "\n",
        "**Comparison of Multiple Categories**: The bar graph is an excellent choice for comparing the average prices of different room types (multiple categories) in various geographical areas (neighborhood groups). Each bar represents a specific room type, and the height of the bar reflects the average price, making it easy to compare the pricing visually.\n",
        "\n",
        "**Clarity and Readability**: The bar graph is straightforward and easy to read, making it suitable for presenting insights to a wide range of audiences, including non-technical stakeholders. The clear visualization allows viewers to understand the price differences between room types across different neighborhood groups.\n",
        "\n",
        "**Multiple Variables**: The bar graph handles multiple variables effectively. It shows the average price (numerical data) for each room type (categorical data) in different neighborhood groups (categorical data) simultaneously.\n",
        "\n",
        "**Palette and Hue Differentiation**: The Seaborn library provides a 'colorblind' palette, which is chosen to ensure that individuals with color vision deficiency can still distinguish between different room types represented by the bars. The 'hue' parameter further differentiates the room types within each neighborhood group, making the graph visually appealing and informative.\n",
        "\n",
        "**Compact Representation**: The bar graph allows us to convey a lot of information in a compact and easy-to-understand format. By showing the average price for each room type in each neighborhood group, we can quickly identify trends and patterns related to pricing differences.\n",
        "\n",
        "**Insight Presentation**: The bar graph effectively presents the insights from the data exploration, showcasing how room types impact pricing in different geographical areas. Viewers can observe which room types tend to have higher or lower average prices in specific neighborhood groups.\n",
        "\n",
        "In conclusion, the bar graph is the ideal choice for this specific analysis because of its ability to visually present the relationship between room type and pricing in different geographical areas. It enables clear comparisons and offers valuable insights into how pricing varies across various room types and neighborhood groups.\n"
      ],
      "metadata": {
        "id": "5aaW0BYyYklI"
      }
    },
    {
      "cell_type": "markdown",
      "source": [
        "##### 2. What is/are the insight(s) found from the chart?"
      ],
      "metadata": {
        "id": "ijmpgYnKYklI"
      }
    },
    {
      "cell_type": "markdown",
      "source": [
        "Answer Here\n",
        "The insights that can be derived from the bar chart \"Average Price of Room Types in Different Geographical Areas\" are:\n",
        "\n",
        "**Room Type Pricing Variation**: The chart clearly shows the average prices of different room types (e.g., Entire home/apt, Private room, Shared room) in each neighborhood group. It allows us to observe the pricing variations based on the type of accommodation and the location.\n",
        "\n",
        "**High-End Accommodations**: In some neighborhood groups, the average price of Entire home/apartment listings is significantly higher than other room types. This suggests that certain areas might cater to guests seeking high-end and exclusive accommodations.\n",
        "\n",
        "**Affordable Options**: In contrast, some neighborhood groups have relatively lower average prices for Private rooms and Shared rooms, indicating that travelers can find more affordable lodging options in those areas.\n",
        "\n",
        "**Pricing Clusters**: The bar chart might reveal clusters of neighborhood groups with similar pricing patterns for specific room types. This clustering can inform guests about the regions where they are more likely to find accommodations within their budget.\n",
        "\n",
        "**Impact of Location**: The chart highlights how location (neighborhood group) plays a critical role in determining pricing. The same room type can have different average prices depending on the geographical area, reflecting demand, popularity, and local factors"
      ],
      "metadata": {
        "id": "PSx9atu2YklI"
      }
    },
    {
      "cell_type": "markdown",
      "source": [
        "##### 3. Will the gained insights help creating a positive business impact?\n",
        "Are there any insights that lead to negative growth? Justify with specific reason."
      ],
      "metadata": {
        "id": "-JiQyfWJYklI"
      }
    },
    {
      "cell_type": "markdown",
      "source": [
        "Answer Here\n",
        "\n",
        "Positive Business Impact:\n",
        "\n",
        "**Optimized Pricing Strategies**: The insights can assist hosts in optimizing their pricing strategies based on room types and neighborhood groups. By strategically setting competitive prices, hosts can attract more guests, increase occupancy rates, and improve overall revenue.\n",
        "\n",
        "**Diversified Accommodation Options**: The analysis may reveal areas with demand for specific room types that are currently underrepresented. This presents an opportunity for hosts to diversify their offerings, potentially capturing a broader range of guests and expanding their business.\n",
        "\n",
        "**Enhanced Guest Experience**: Understanding the relationship between room type and pricing allows hosts to align their listings with guests' preferences and expectations. This can lead to improved guest satisfaction and positive reviews, promoting positive word-of-mouth and attracting more bookings.\n",
        "\n",
        "#Insights with Potential Negative Growth:\n",
        "\n",
        "**Price Wars and Underselling**: If hosts misinterpret the pricing insights, there is a risk of price wars and underselling. Some hosts might engage in aggressive price competition to attract guests, leading to lower profitability for individual hosts and potential devaluation of the entire marketplace.\n",
        "\n",
        "**Neglecting Unique Offerings**: Focusing solely on pricing differences might lead some hosts to neglect the unique offerings of their listings, such as amenities, hospitality, and personal touches. Overemphasizing pricing may result in a race to the bottom, compromising the quality of guest experiences.\n",
        "\n",
        "**Overcrowded Markets**: In areas with high demand for a particular room type, hosts might flood the market with similar listings, leading to oversaturation. This can reduce the occupancy rates for individual hosts and result in negative growth in those areas.\n",
        "\n"
      ],
      "metadata": {
        "id": "BcBbebzrYklV"
      }
    },
    {
      "cell_type": "markdown",
      "source": [
        "#### Chart - 3"
      ],
      "metadata": {
        "id": "EM7whBJCYoAo"
      }
    },
    {
      "cell_type": "markdown",
      "source": [
        "####**What valuable data can be extracted from the dataset, such as geographical information, pricing trends, guest reviews, and more?**"
      ],
      "metadata": {
        "id": "_qDEX2ESolcI"
      }
    },
    {
      "cell_type": "code",
      "source": [
        "# Chart - 3 visualization code\n",
        "grouped_data = df.groupby(['neighbourhood_group', 'room_type'])\n",
        "average_price_by_group_room = grouped_data['price'].mean().reset_index()\n",
        "\n",
        "# Visualization - Line chart\n",
        "plt.figure(figsize=(12, 6))\n",
        "sns.lineplot(data=average_price_by_group_room, x='neighbourhood_group', y='price', hue='room_type', marker='o')\n",
        "plt.title('Average Price of Room Types in Different Geographical Areas')\n",
        "plt.xlabel('Neighbourhood Group')\n",
        "plt.ylabel('Average Price')\n",
        "plt.xticks(rotation=45, ha='right')\n",
        "plt.tight_layout()\n",
        "plt.show()"
      ],
      "metadata": {
        "id": "t6GMdE67YoAp"
      },
      "execution_count": null,
      "outputs": []
    },
    {
      "cell_type": "markdown",
      "source": [
        "##### 1. Why did you pick the specific chart?"
      ],
      "metadata": {
        "id": "fge-S5ZAYoAp"
      }
    },
    {
      "cell_type": "markdown",
      "source": [
        "Answer Here.\n",
        "\n",
        "The line chart is effective for the following reasons:\n",
        "\n",
        "**Continuous Data**: The x-axis represents the neighborhood groups, which are continuous data points. The line chart allows us to connect the data points smoothly and visualize the price trends across the entire range of neighborhood groups.\n",
        "\n",
        "**Comparison of Trends**: The line chart enables easy comparison of average prices for different room types within each neighborhood group. Each room type is represented by a separate line, making it simple to identify how their prices vary across different geographical areas.\n",
        "\n",
        "**Highlighting Differences**: By using different colors and markers for each room type, the line chart clearly distinguishes between them. This makes it straightforward to identify the highest and lowest priced room types in each neighborhood group.\n",
        "\n",
        "**Identifying Patterns**: Line charts are excellent for identifying patterns, such as increasing or decreasing trends in prices based on room types within specific neighborhood groups.\n",
        "\n",
        "**Data Density**: Line charts are useful for handling a moderate number of data points, which is suitable for comparing average prices of a few room types within a limited number of neighborhood groups."
      ],
      "metadata": {
        "id": "5dBItgRVYoAp"
      }
    },
    {
      "cell_type": "markdown",
      "source": [
        "##### 2. What is/are the insight(s) found from the chart?"
      ],
      "metadata": {
        "id": "85gYPyotYoAp"
      }
    },
    {
      "cell_type": "markdown",
      "source": [
        "Answer Here\n",
        "\n",
        "From the line chart that visualizes the average price of different room types in each neighborhood group, we can gain several insights:\n",
        "\n",
        "Room Type Pricing Variation: The chart shows that the average prices of room types (e.g., Entire home/apt, Private room, Shared room) vary across different neighborhood groups. This indicates that the pricing of accommodations is influenced by the location.\n",
        "\n",
        "**Most Expensive Room Types**: In some neighborhood groups, the line for 'Entire home/apt' (representing entire apartments or houses) tends to be higher than other room types, suggesting that renting an entire home/apartment is generally more expensive in those areas.\n",
        "\n",
        "**Affordable Options**: The chart also reveals instances where 'Private room' and 'Shared room' options are more affordable compared to 'Entire home/apt.' This could be appealing to budget-conscious travelers looking for more cost-effective accommodations.\n",
        "\n",
        "**Consistency in Pricing**: In certain neighborhood groups, the lines for different room types run close together, indicating that there might not be significant pricing differences between the available room types in those areas.\n",
        "\n",
        "**Price Trends Across Neighborhoods**: By comparing the slopes of the lines, we can observe whether the pricing trends are similar or different across various neighborhood groups. This can help identify areas where room type pricing aligns or deviates.\n",
        "\n",
        "**Targeting Specific Guests**: Hosts can leverage the insights from the chart to understand which room types are more popular or lucrative in specific neighborhood groups. They can tailor their listings to cater to the preferences of potential guests in different areas.\n",
        "\n"
      ],
      "metadata": {
        "id": "4jstXR6OYoAp"
      }
    },
    {
      "cell_type": "markdown",
      "source": [
        "##### 3. Will the gained insights help creating a positive business impact?\n",
        "Are there any insights that lead to negative growth? Justify with specific reason."
      ],
      "metadata": {
        "id": "RoGjAbkUYoAp"
      }
    },
    {
      "cell_type": "markdown",
      "source": [
        "Answer Here\n",
        "\n",
        "###**Positive Business Impact:**\n",
        "\n",
        "**Optimized Pricing Strategies**: Hosts can use the insights to implement optimized pricing strategies based on the specific neighborhood groups they operate in. By understanding which room types are more desirable and command higher prices in certain areas, hosts can adjust their rates accordingly. This can lead to increased revenue and profitability for hosts, which ultimately benefits their business.\n",
        "\n",
        "**Enhanced Guest Experience**: Guests can benefit from the insights by gaining a better understanding of how room type prices vary across different neighborhoods. This enables them to make informed decisions that align with their budget and preferences, leading to higher satisfaction and positive reviews.\n",
        "\n",
        "**Improved Market Segmentation**: Airbnb as a platform can leverage the insights to improve market segmentation. By understanding the price sensitivity of different room types in various neighborhoods, Airbnb can tailor marketing efforts and promotions to specific target audiences. This can attract a diverse range of guests and drive higher booking rates.\n",
        "\n",
        "###**Negative Growth Implications:**\n",
        "\n",
        "**Potential Overpricing**: If hosts misinterpret the insights and set excessively high prices for certain room types based on their neighborhood group, it may lead to a negative impact on demand. Overpricing can deter potential guests from booking, resulting in lower occupancy rates and potential revenue loss for hosts.\n",
        "\n",
        "**Competitive Disadvantage**: If hosts in certain neighborhood groups all follow similar pricing strategies based on the insights, it can create intense competition among listings of similar room types. This may lead to a race-to-the-bottom scenario where prices are driven down to attract guests, potentially reducing profit margins for hosts.\n",
        "\n",
        "**Unrealized Potential in Untapped Areas**: Over-focusing on specific neighborhood groups that have shown higher pricing for particular room types may cause hosts to neglect potential opportunities in other areas. By solely targeting high-priced neighborhoods, hosts may miss out on attracting guests to other less-explored but still attractive areas."
      ],
      "metadata": {
        "id": "zfJ8IqMcYoAp"
      }
    },
    {
      "cell_type": "markdown",
      "source": [
        "#### Chart - 4"
      ],
      "metadata": {
        "id": "4Of9eVA-YrdM"
      }
    },
    {
      "cell_type": "markdown",
      "source": [
        "***Who are the most occupied hosts, and what factors contribute to their busy schedules on the platform?***"
      ],
      "metadata": {
        "id": "2eRcx5nCoUL8"
      }
    },
    {
      "cell_type": "code",
      "source": [
        "grouped_hosts = df.groupby('host_id')\n",
        "host_stats = grouped_hosts.agg({\n",
        "    'availability_365': 'sum',\n",
        "    'number_of_reviews': 'sum',\n",
        "    'reviews_per_month': 'mean'\n",
        "})\n",
        "active_hosts = host_stats[host_stats['availability_365'] > 0]\n",
        "\n",
        "most_occupied_hosts = active_hosts.nlargest(5, ['availability_365', 'number_of_reviews'])\n",
        "\n",
        "plt.figure(figsize=(12, 6))\n",
        "\n",
        "for host_id, row in most_occupied_hosts.iterrows():\n",
        "    plt.plot(['Availability', 'Total Reviews', 'Avg. Reviews per Month'],\n",
        "             [row['availability_365'], row['number_of_reviews'], row['reviews_per_month']],\n",
        "             label=f'Host ID {host_id}', marker='o')\n",
        "\n",
        "plt.title('Most Occupied Hosts and Their Busy Schedules')\n",
        "plt.xlabel('Metrics')\n",
        "plt.ylabel('Count / Average')\n",
        "plt.legend()\n",
        "plt.tight_layout()\n",
        "plt.show()"
      ],
      "metadata": {
        "id": "irlUoxc8YrdO"
      },
      "execution_count": null,
      "outputs": []
    },
    {
      "cell_type": "markdown",
      "source": [
        "##### 1. Why did you pick the specific chart?"
      ],
      "metadata": {
        "id": "iky9q4vBYrdO"
      }
    },
    {
      "cell_type": "markdown",
      "source": [
        "Answer Here.\n",
        "\n",
        "I chose the line chart to visualize the busy schedules of the most occupied hosts on the platform because it effectively portrays the trends and changes in multiple variables (availability, total reviews, and average reviews per month) over a continuous range of metrics. Here's why the line chart is a suitable choice for this visualization:\n",
        "\n",
        "**Comparison of Trends**: The line chart enables easy comparison of the busy schedules of different hosts. Each host is represented by a separate line, making it straightforward to observe how their availability, total reviews, and average reviews per month vary.\n",
        "\n",
        "**Trend Patterns**: Line charts are excellent for identifying patterns and trends over time or in this case, metrics. The slopes and shapes of the lines provide insights into how these metrics evolve for each host.\n",
        "\n",
        "**Multiple Variables**: The line chart accommodates multiple variables (metrics) on both the x and y axes, making it possible to depict the interrelation between availability, reviews, and average reviews per month for each host.\n",
        "\n",
        "**Data Density**: Line charts handle data with multiple data points well, and in this case, they allow us to visualize the three different metrics for each host.\n",
        "\n",
        "**Continuous Data**: The x-axis represents continuous metrics, such as availability, total reviews, and average reviews per month. The line chart effectively connects the data points and shows the variation between these metrics.\n",
        "\n",
        "**Highlighting Differences**: Line charts use different lines and markers for each host, making it easy to distinguish and compare their busy schedules.\n",
        "\n",
        "**Interactive Insights**: Interactive line charts (when used in digital platforms) can allow users to hover over data points and retrieve specific values, enhancing the understanding of each host's performance.\n",
        "\n",
        "In summary, the line chart is chosen for its ability to reveal trends, compare busy schedules, and showcase the relationships between multiple variables. It's a suitable choice for gaining insights into how the most occupied hosts on the platform manage their availability and receive reviews over time, ultimately contributing to their successful performance.\n"
      ],
      "metadata": {
        "id": "aJRCwT6DYrdO"
      }
    },
    {
      "cell_type": "markdown",
      "source": [
        "##### 2. What is/are the insight(s) found from the chart?"
      ],
      "metadata": {
        "id": "F6T5p64dYrdO"
      }
    },
    {
      "cell_type": "markdown",
      "source": [
        "Answer Here\n",
        "\n",
        "**Availability Patterns**: The availability (total number of available days) for each host varies. Some hosts maintain consistently high availability throughout the year, indicating their properties are frequently open for booking. Others show fluctuations, which could be due to seasonality, special events, or personal preferences.\n",
        "\n",
        "**Review Growth**: The total number of reviews is an indicator of guest engagement. Hosts with steeper upward-sloping lines in the \"Total Reviews\" metric demonstrate rapid growth in guest interactions. This suggests that these hosts are attracting a significant number of bookings and maintaining high guest satisfaction.\n",
        "\n",
        "**Steady Engagement**: Hosts with relatively consistent slopes in the \"Total Reviews\" metric show steady guest engagement over time. This implies consistent demand and positive guest experiences, leading to repeated bookings and reviews.\n",
        "\n",
        "**Review Per Month Patterns**: The \"Avg. Reviews per Month\" metric indicates how often guests leave reviews. Hosts with consistently high \"Avg. Reviews per Month\" values have a loyal guest base, and their properties likely provide exceptional experiences.\n",
        "\n",
        "**Potential Peaks**: Sudden peaks or dips in any of the metrics may indicate specific events or changes in the host's strategy. Peaks could coincide with special offers, events, or improved property quality. Dips might signal maintenance periods or lower demand periods.\n",
        "\n",
        "**Comparative Performance**: By comparing the slopes of different hosts' lines, we can assess their relative performance. Hosts with steeper slopes are experiencing faster growth in the given metric.\n",
        "\n",
        "**Differences in Strategies**: Hosts with different slopes and shapes in the lines likely employ different strategies. Some hosts might focus on steady engagement, while others could opt for concentrated bursts of high activity.\n",
        "\n",
        "**Demand Responsiveness**: Hosts with properties that experience seasonal changes in availability or review patterns might be effectively responding to changing market demands."
      ],
      "metadata": {
        "id": "Xx8WAJvtYrdO"
      }
    },
    {
      "cell_type": "markdown",
      "source": [
        "##### 3. Will the gained insights help creating a positive business impact?\n",
        "Are there any insights that lead to negative growth? Justify with specific reason."
      ],
      "metadata": {
        "id": "y-Ehk30pYrdP"
      }
    },
    {
      "cell_type": "markdown",
      "source": [
        "Answer Here\n",
        "\n",
        "###**Positive Business Impact**:\n",
        "\n",
        "**Strategic Decisions**: Airbnb can use these insights to identify successful host strategies and share best practices with other hosts. This can lead to improved guest experiences, higher satisfaction rates, and increased bookings, resulting in enhanced user engagement and business growth.\n",
        "\n",
        "**Feature Development**: Understanding what drives host occupancy can guide the development of features or tools that help hosts manage availability, pricing, and guest interactions effectively. This can lead to a more seamless experience for both hosts and guests, driving loyalty and retention.\n",
        "\n",
        "**Marketing**: Insights about successful host behaviors can inform marketing efforts. Highlighting hosts with high occupancy rates and positive guest feedback can attract more bookings and build trust among potential guests.\n",
        "\n",
        "**Performance Metrics**: Airbnb can develop performance metrics based on successful host behaviors. This can serve as a benchmark for hosts, encouraging them to improve their properties and service quality to achieve higher occupancy rates.\n",
        "\n",
        "**Educational Resources**: Insights can be used to create educational resources for hosts, offering tips on improving occupancy rates, maintaining positive reviews, and managing properties efficiently.\n",
        "\n",
        "###**Insights Leading to Negative Growth**:\n",
        "\n",
        "**Unsustainable Growth**: If a host is consistently overbooking and unable to manage the influx of guests, it might lead to negative guest experiences, cancellations, and poor reviews. This can ultimately harm the host's reputation and impact business growth.\n",
        "\n",
        "**Seasonal Dependency**: If a host relies heavily on specific seasons or events for occupancy and neglects other periods, they might experience negative growth during off-peak times.\n",
        "\n",
        "**Negative Reviews Impact**: Hosts with declining \"Avg. Reviews per Month\" could potentially be offering subpar experiences, leading to negative reviews and reduced bookings.\n",
        "\n",
        "**Lack of Adaptability**: If hosts fail to adjust to changing market demands or fail to respond to guests' feedback, they might experience negative growth as guest preferences evolve.\n",
        "\n",
        "**Competitive Landscape**: If hosts are unaware of successful strategies employed by their peers, they might struggle to compete effectively and face negative growth due to fewer bookings and less favorable reviews.\n",
        "\n"
      ],
      "metadata": {
        "id": "jLNxxz7MYrdP"
      }
    },
    {
      "cell_type": "markdown",
      "source": [
        "#### Chart - 5"
      ],
      "metadata": {
        "id": "bamQiAODYuh1"
      }
    },
    {
      "cell_type": "markdown",
      "source": [
        "###**Which hosts set higher prices for their listings, and what factors may influence these elevated rates?**"
      ],
      "metadata": {
        "id": "Ujx5YNfAERcg"
      }
    },
    {
      "cell_type": "code",
      "source": [
        "highest_prices = df.groupby(['host_id', 'host_name', 'room_type', 'neighbourhood_group'])['price'].max().reset_index()\n",
        "\n",
        "# Sort the data by price in descending order\n",
        "highest_prices = highest_prices.sort_values(by='price', ascending=False).head(10)\n",
        "\n",
        "# Extracting data for visualization\n",
        "host_names = highest_prices['host_name']\n",
        "prices = highest_prices['price']\n",
        "\n",
        "# Creating the bar chart\n",
        "plt.figure(figsize=(10, 5))\n",
        "plt.bar(host_names, prices, color='orange', width=0.5)\n",
        "plt.xlabel('Name of the Host')\n",
        "plt.ylabel('Price')\n",
        "plt.title('Hosts with Highest Price Listings')\n",
        "plt.xticks(rotation=45)\n",
        "plt.tight_layout()\n",
        "plt.show()"
      ],
      "metadata": {
        "id": "TIJwrbroYuh3"
      },
      "execution_count": null,
      "outputs": []
    },
    {
      "cell_type": "markdown",
      "source": [
        "##### 1. Why did you pick the specific chart?"
      ],
      "metadata": {
        "id": "QHF8YVU7Yuh3"
      }
    },
    {
      "cell_type": "markdown",
      "source": [
        "Answer Here.\n",
        "Now we have seen that 10 Hosts who are charging maximum price:\n",
        "Jelena, Kathrine, Erin, Matt, Olson, Amy, Rum, Jessica, Sally, Jack\n",
        "\n",
        "Max Price is 10000 USD"
      ],
      "metadata": {
        "id": "dcxuIMRPYuh3"
      }
    },
    {
      "cell_type": "markdown",
      "source": [
        "##### 2. What is/are the insight(s) found from the chart?"
      ],
      "metadata": {
        "id": "GwzvFGzlYuh3"
      }
    },
    {
      "cell_type": "markdown",
      "source": [
        "Answer Here\n",
        "\n",
        "From the bar chart displaying the hosts with the highest price listings, several insights can be inferred:\n",
        "\n",
        "**Diversity of Hosts**: The chart showcases a variety of hosts who have set the highest prices for their listings. This indicates that elevated prices are not limited to a specific type of host, room type, or neighborhood group.\n",
        "\n",
        "**Influence of Host Name**: Some hosts with high prices are likely to have established a reputation or brand that allows them to charge premium rates. This suggests that guest recognition and positive reviews might contribute to higher pricing strategies.\n",
        "\n",
        "**Room Type Variation**: It's possible to observe which room types are associated with the highest prices. Different room types could command varying levels of pricing due to factors like space, privacy, and amenities."
      ],
      "metadata": {
        "id": "uyqkiB8YYuh3"
      }
    },
    {
      "cell_type": "markdown",
      "source": [
        "##### 3. Will the gained insights help creating a positive business impact?\n",
        "Are there any insights that lead to negative growth? Justify with specific reason."
      ],
      "metadata": {
        "id": "qYpmQ266Yuh3"
      }
    },
    {
      "cell_type": "markdown",
      "source": [
        "Answer Here.\n",
        "\n",
        "###**Positive Business Impact**:\n",
        "\n",
        "**Premium Experiences**: Understanding which hosts are charging the highest prices can help Airbnb identify successful strategies that lead to premium experiences. This insight can guide the platform in promoting and encouraging these premium listings, attracting high-end travelers and potentially increasing revenue.\n",
        "\n",
        "**Market Segmentation**: The insights can assist in market segmentation, allowing Airbnb to tailor its marketing and communication strategies to luxury travelers who are willing to pay higher prices for exclusive experiences.\n",
        "\n",
        "###**Potential Negative Growth**:\n",
        "\n",
        "**Exclusivity vs. Accessibility**: While high-priced listings can attract luxury travelers, it's important not to lose sight of Airbnb's accessibility and diverse range of offerings. Focusing too heavily on premium experiences might alienate budget-conscious travelers and lead to negative growth among this segment.\n",
        "\n",
        "**Competitive Imbalance**: If certain hosts are consistently charging significantly higher prices, it could lead to an imbalance in the competition landscape. Lower-priced hosts might struggle to compete, potentially reducing the diversity and variety of listings available."
      ],
      "metadata": {
        "id": "_WtzZ_hCYuh4"
      }
    },
    {
      "cell_type": "markdown",
      "source": [
        "#### Chart - 6"
      ],
      "metadata": {
        "id": "OH-pJp9IphqM"
      }
    },
    {
      "cell_type": "markdown",
      "source": [
        "####**Are there any discrepancies in listing traffic across different areas, and what could be the underlying reasons for these variations?**"
      ],
      "metadata": {
        "id": "A02YCujtX3ha"
      }
    },
    {
      "cell_type": "code",
      "source": [
        "listing_counts = df['neighbourhood_group'].value_counts()\n",
        "\n",
        "# Create a bar chart\n",
        "plt.figure(figsize=(10, 6))\n",
        "sns.barplot(x=listing_counts.index, y=listing_counts.values, palette='colorblind')\n",
        "plt.title('Number of Listings by Neighborhood Group')\n",
        "plt.xlabel('Neighborhood Group')\n",
        "plt.ylabel('Number of Listings')\n",
        "plt.xticks(rotation=45)\n",
        "plt.tight_layout()\n",
        "plt.show()\n"
      ],
      "metadata": {
        "id": "kuRf4wtuphqN"
      },
      "execution_count": null,
      "outputs": []
    },
    {
      "cell_type": "markdown",
      "source": [
        "##### 1. Why did you pick the specific chart?"
      ],
      "metadata": {
        "id": "bbFf2-_FphqN"
      }
    },
    {
      "cell_type": "markdown",
      "source": [
        "Answer Here.\n",
        "\n",
        "**I picked the bar chart because it's effective at comparing the number of listings across different categories, in this case, the neighborhood groups. Each bar represents a neighborhood group, and the height of the bar shows the number of listings in that group. This makes it easy to quickly see which areas have more or fewer listings, helping us identify any disparities in listing traffic.**"
      ],
      "metadata": {
        "id": "loh7H2nzphqN"
      }
    },
    {
      "cell_type": "markdown",
      "source": [
        "##### 2. What is/are the insight(s) found from the chart?"
      ],
      "metadata": {
        "id": "_ouA3fa0phqN"
      }
    },
    {
      "cell_type": "markdown",
      "source": [
        "Answer Here\n",
        "\n",
        "From the bar chart that displays the number of listings by neighborhood group, we can gain insights about listing distribution:\n",
        "\n",
        "**Popular Areas**: We can see which neighborhood groups have a higher number of listings, indicating popular areas that attract more hosts and guests.\n",
        "\n",
        "**Varied Distribution**: The chart shows if there's a balanced distribution of listings across different neighborhood groups or if some areas dominate.\n",
        "\n",
        "**Traveler Preferences**: Areas with more listings might be traveler favorites, suggesting higher demand in those locations.\n",
        "\n",
        "**Market Demand**: Less-listed areas could be less explored by travelers or might have unique appeal that attracts fewer hosts.\n",
        "\n",
        "**Host Density**: Clusters of bars indicate regions with higher host activity, revealing potential hubs of Airbnb activity.\n"
      ],
      "metadata": {
        "id": "VECbqPI7phqN"
      }
    },
    {
      "cell_type": "markdown",
      "source": [
        "##### 3. Will the gained insights help creating a positive business impact?\n",
        "Are there any insights that lead to negative growth? Justify with specific reason."
      ],
      "metadata": {
        "id": "Seke61FWphqN"
      }
    },
    {
      "cell_type": "markdown",
      "source": [
        "Answer Here\n",
        "\n",
        "**The gained insights can help create a positive business impact for Airbnb. Understanding listing distribution can guide marketing efforts, focusing on popular areas to attract more hosts and guests.**\n",
        "\n",
        "**However, there's a potential for negative growth if some areas have too few listings. This might lead to an uneven user experience, with limited options for guests in those areas. It's important to balance growth across neighborhoods to maintain a diverse and attractive platform for all travelers.**"
      ],
      "metadata": {
        "id": "DW4_bGpfphqN"
      }
    },
    {
      "cell_type": "markdown",
      "source": [
        "#### Chart - 7"
      ],
      "metadata": {
        "id": "PIIx-8_IphqN"
      }
    },
    {
      "cell_type": "markdown",
      "source": [
        "####**What is the distribution of room types across different neighborhood groups?**"
      ],
      "metadata": {
        "id": "HGgr0IFftfk3"
      }
    },
    {
      "cell_type": "code",
      "source": [
        "# Chart - 7 visualization code\n",
        "room_type_counts = df.groupby(['neighbourhood_group', 'room_type'])['id'].count().reset_index()\n",
        "\n",
        "# Create a grouped bar chart\n",
        "plt.figure(figsize=(10, 6))\n",
        "sns.barplot(data=room_type_counts, x='neighbourhood_group', y='id', hue='room_type', palette='colorblind')\n",
        "plt.title('Distribution of Room Types by Neighborhood Group')\n",
        "plt.xlabel('Neighborhood Group')\n",
        "plt.ylabel('Number of Listings')\n",
        "plt.xticks(rotation=45)\n",
        "plt.tight_layout()\n",
        "plt.show()"
      ],
      "metadata": {
        "id": "lqAIGUfyphqO"
      },
      "execution_count": null,
      "outputs": []
    },
    {
      "cell_type": "markdown",
      "source": [
        "##### 1. Why did you pick the specific chart?"
      ],
      "metadata": {
        "id": "t27r6nlMphqO"
      }
    },
    {
      "cell_type": "markdown",
      "source": [
        "Answer Here.\n",
        "\n",
        "**I chose the grouped bar chart because it's effective in showing how room types are distributed across different neighborhood groups. This chart uses different colors for each room type within each neighborhood group, making it easy to compare the proportions of room types in a visually clear way. It's a great choice when you want to see both the overall distribution and the distribution within each group at the same time.**"
      ],
      "metadata": {
        "id": "iv6ro40sphqO"
      }
    },
    {
      "cell_type": "markdown",
      "source": [
        "##### 2. What is/are the insight(s) found from the chart?"
      ],
      "metadata": {
        "id": "r2jJGEOYphqO"
      }
    },
    {
      "cell_type": "markdown",
      "source": [
        "Answer Here\n",
        "\n",
        "From the grouped bar chart that displays the distribution of room types across different neighborhood groups, we can gain insights:\n",
        "\n",
        "**Room Type Preferences**: We can identify which room types are most popular in each neighborhood group. For example, whether entire homes/apartments are more common in certain areas.\n",
        "\n",
        "**Variation Across Areas**: The chart shows if certain room types are more prevalent in specific neighborhood groups, indicating traveler preferences or local characteristics.\n",
        "\n",
        "**Local Accommodation Trends**: Insights into whether certain areas have a higher demand for private rooms or shared accommodations, revealing potential local accommodation trends.\n",
        "\n",
        "**Platform Diversity**: We can assess if the platform offers a diverse range of room types across different neighborhoods or if some types dominate, impacting the variety of choices for guests.\n",
        "\n",
        "**Host and Guest Interests**: The chart hints at what types of accommodations hosts are providing and what guests are likely to find in each area"
      ],
      "metadata": {
        "id": "Po6ZPi4hphqO"
      }
    },
    {
      "cell_type": "markdown",
      "source": [
        "##### 3. Will the gained insights help creating a positive business impact?\n",
        "Are there any insights that lead to negative growth? Justify with specific reason."
      ],
      "metadata": {
        "id": "b0JNsNcRphqO"
      }
    },
    {
      "cell_type": "markdown",
      "source": [
        "Answer Here\n",
        "\n",
        "**Yes, the gained insights can help create a positive business impact for Airbnb. Understanding room type distributions by neighborhood group can guide marketing strategies, helping Airbnb tailor promotions to different traveler preferences.**\n",
        "\n",
        "**However, if certain room types are overly dominant in specific areas, it might lead to negative growth. This could limit the variety of options available to guests, potentially reducing their satisfaction and discouraging bookings in areas with limited choices. Maintaining a diverse range of room types in each neighborhood can prevent negative growth and offer guests a better experience.**"
      ],
      "metadata": {
        "id": "xvSq8iUTphqO"
      }
    },
    {
      "cell_type": "markdown",
      "source": [
        "#### Chart - 8"
      ],
      "metadata": {
        "id": "BZR9WyysphqO"
      }
    },
    {
      "cell_type": "markdown",
      "source": [
        "####**How does the number of reviews correlate with the availability of listings?**"
      ],
      "metadata": {
        "id": "cTzL1Mt-2cgN"
      }
    },
    {
      "cell_type": "code",
      "source": [
        "# Chart - 8 visualization code\n",
        "reviews_per_month_data = df.groupby(['room_type', 'neighbourhood_group'])['reviews_per_month'].mean().reset_index()\n",
        "\n",
        "# Create a line chart\n",
        "plt.figure(figsize=(10, 6))\n",
        "sns.lineplot(data=reviews_per_month_data, x='neighbourhood_group', y='reviews_per_month', hue='room_type', marker='o')\n",
        "plt.title('Average Reviews per Month by Room Type and Neighborhood Group')\n",
        "plt.xlabel('Neighborhood Group')\n",
        "plt.ylabel('Average Reviews per Month')\n",
        "plt.xticks(rotation=45)\n",
        "plt.tight_layout()\n",
        "plt.legend(title='Room Type')\n",
        "plt.show()"
      ],
      "metadata": {
        "id": "TdPTWpAVphqO"
      },
      "execution_count": null,
      "outputs": []
    },
    {
      "cell_type": "markdown",
      "source": [
        "##### 1. Why did you pick the specific chart?"
      ],
      "metadata": {
        "id": "jj7wYXLtphqO"
      }
    },
    {
      "cell_type": "markdown",
      "source": [
        "Answer Here."
      ],
      "metadata": {
        "id": "Ob8u6rCTphqO"
      }
    },
    {
      "cell_type": "markdown",
      "source": [
        "##### 2. What is/are the insight(s) found from the chart?"
      ],
      "metadata": {
        "id": "eZrbJ2SmphqO"
      }
    },
    {
      "cell_type": "markdown",
      "source": [
        "Answer Here"
      ],
      "metadata": {
        "id": "mZtgC_hjphqO"
      }
    },
    {
      "cell_type": "markdown",
      "source": [
        "##### 3. Will the gained insights help creating a positive business impact?\n",
        "Are there any insights that lead to negative growth? Justify with specific reason."
      ],
      "metadata": {
        "id": "rFu4xreNphqO"
      }
    },
    {
      "cell_type": "markdown",
      "source": [
        "Answer Here"
      ],
      "metadata": {
        "id": "ey_0qi68phqO"
      }
    },
    {
      "cell_type": "markdown",
      "source": [
        "#### Chart - 9"
      ],
      "metadata": {
        "id": "YJ55k-q6phqO"
      }
    },
    {
      "cell_type": "code",
      "source": [
        "# Chart - 9 visualization code"
      ],
      "metadata": {
        "id": "B2aS4O1ophqO"
      },
      "execution_count": null,
      "outputs": []
    },
    {
      "cell_type": "markdown",
      "source": [
        "##### 1. Why did you pick the specific chart?"
      ],
      "metadata": {
        "id": "gCFgpxoyphqP"
      }
    },
    {
      "cell_type": "markdown",
      "source": [
        "Answer Here."
      ],
      "metadata": {
        "id": "TVxDimi2phqP"
      }
    },
    {
      "cell_type": "markdown",
      "source": [
        "##### 2. What is/are the insight(s) found from the chart?"
      ],
      "metadata": {
        "id": "OVtJsKN_phqQ"
      }
    },
    {
      "cell_type": "markdown",
      "source": [
        "Answer Here"
      ],
      "metadata": {
        "id": "ngGi97qjphqQ"
      }
    },
    {
      "cell_type": "markdown",
      "source": [
        "##### 3. Will the gained insights help creating a positive business impact?\n",
        "Are there any insights that lead to negative growth? Justify with specific reason."
      ],
      "metadata": {
        "id": "lssrdh5qphqQ"
      }
    },
    {
      "cell_type": "markdown",
      "source": [
        "Answer Here"
      ],
      "metadata": {
        "id": "tBpY5ekJphqQ"
      }
    },
    {
      "cell_type": "markdown",
      "source": [
        "#### Chart - 10"
      ],
      "metadata": {
        "id": "U2RJ9gkRphqQ"
      }
    },
    {
      "cell_type": "code",
      "source": [
        "# Chart - 10 visualization code"
      ],
      "metadata": {
        "id": "GM7a4YP4phqQ"
      },
      "execution_count": null,
      "outputs": []
    },
    {
      "cell_type": "markdown",
      "source": [
        "##### 1. Why did you pick the specific chart?"
      ],
      "metadata": {
        "id": "1M8mcRywphqQ"
      }
    },
    {
      "cell_type": "markdown",
      "source": [
        "Answer Here."
      ],
      "metadata": {
        "id": "8agQvks0phqQ"
      }
    },
    {
      "cell_type": "markdown",
      "source": [
        "##### 2. What is/are the insight(s) found from the chart?"
      ],
      "metadata": {
        "id": "tgIPom80phqQ"
      }
    },
    {
      "cell_type": "markdown",
      "source": [
        "Answer Here"
      ],
      "metadata": {
        "id": "Qp13pnNzphqQ"
      }
    },
    {
      "cell_type": "markdown",
      "source": [
        "##### 3. Will the gained insights help creating a positive business impact?\n",
        "Are there any insights that lead to negative growth? Justify with specific reason."
      ],
      "metadata": {
        "id": "JMzcOPDDphqR"
      }
    },
    {
      "cell_type": "markdown",
      "source": [
        "Answer Here"
      ],
      "metadata": {
        "id": "R4Ka1PC2phqR"
      }
    },
    {
      "cell_type": "markdown",
      "source": [
        "#### Chart - 11"
      ],
      "metadata": {
        "id": "x-EpHcCOp1ci"
      }
    },
    {
      "cell_type": "code",
      "source": [
        "# Chart - 11 visualization code"
      ],
      "metadata": {
        "id": "mAQTIvtqp1cj"
      },
      "execution_count": null,
      "outputs": []
    },
    {
      "cell_type": "markdown",
      "source": [
        "##### 1. Why did you pick the specific chart?"
      ],
      "metadata": {
        "id": "X_VqEhTip1ck"
      }
    },
    {
      "cell_type": "markdown",
      "source": [
        "Answer Here."
      ],
      "metadata": {
        "id": "-vsMzt_np1ck"
      }
    },
    {
      "cell_type": "markdown",
      "source": [
        "##### 2. What is/are the insight(s) found from the chart?"
      ],
      "metadata": {
        "id": "8zGJKyg5p1ck"
      }
    },
    {
      "cell_type": "markdown",
      "source": [
        "Answer Here"
      ],
      "metadata": {
        "id": "ZYdMsrqVp1ck"
      }
    },
    {
      "cell_type": "markdown",
      "source": [
        "##### 3. Will the gained insights help creating a positive business impact?\n",
        "Are there any insights that lead to negative growth? Justify with specific reason."
      ],
      "metadata": {
        "id": "PVzmfK_Ep1ck"
      }
    },
    {
      "cell_type": "markdown",
      "source": [
        "Answer Here"
      ],
      "metadata": {
        "id": "druuKYZpp1ck"
      }
    },
    {
      "cell_type": "markdown",
      "source": [
        "#### Chart - 12"
      ],
      "metadata": {
        "id": "n3dbpmDWp1ck"
      }
    },
    {
      "cell_type": "code",
      "source": [
        "# Chart - 12 visualization code"
      ],
      "metadata": {
        "id": "bwevp1tKp1ck"
      },
      "execution_count": null,
      "outputs": []
    },
    {
      "cell_type": "markdown",
      "source": [
        "##### 1. Why did you pick the specific chart?"
      ],
      "metadata": {
        "id": "ylSl6qgtp1ck"
      }
    },
    {
      "cell_type": "markdown",
      "source": [
        "Answer Here."
      ],
      "metadata": {
        "id": "m2xqNkiQp1ck"
      }
    },
    {
      "cell_type": "markdown",
      "source": [
        "##### 2. What is/are the insight(s) found from the chart?"
      ],
      "metadata": {
        "id": "ZWILFDl5p1ck"
      }
    },
    {
      "cell_type": "markdown",
      "source": [
        "Answer Here"
      ],
      "metadata": {
        "id": "x-lUsV2mp1ck"
      }
    },
    {
      "cell_type": "markdown",
      "source": [
        "##### 3. Will the gained insights help creating a positive business impact?\n",
        "Are there any insights that lead to negative growth? Justify with specific reason."
      ],
      "metadata": {
        "id": "M7G43BXep1ck"
      }
    },
    {
      "cell_type": "markdown",
      "source": [
        "Answer Here"
      ],
      "metadata": {
        "id": "5wwDJXsLp1cl"
      }
    },
    {
      "cell_type": "markdown",
      "source": [
        "#### Chart - 13"
      ],
      "metadata": {
        "id": "Ag9LCva-p1cl"
      }
    },
    {
      "cell_type": "code",
      "source": [
        "# Chart - 13 visualization code"
      ],
      "metadata": {
        "id": "EUfxeq9-p1cl"
      },
      "execution_count": null,
      "outputs": []
    },
    {
      "cell_type": "markdown",
      "source": [
        "##### 1. Why did you pick the specific chart?"
      ],
      "metadata": {
        "id": "E6MkPsBcp1cl"
      }
    },
    {
      "cell_type": "markdown",
      "source": [
        "Answer Here."
      ],
      "metadata": {
        "id": "V22bRsFWp1cl"
      }
    },
    {
      "cell_type": "markdown",
      "source": [
        "##### 2. What is/are the insight(s) found from the chart?"
      ],
      "metadata": {
        "id": "2cELzS2fp1cl"
      }
    },
    {
      "cell_type": "markdown",
      "source": [
        "Answer Here"
      ],
      "metadata": {
        "id": "ozQPc2_Ip1cl"
      }
    },
    {
      "cell_type": "markdown",
      "source": [
        "##### 3. Will the gained insights help creating a positive business impact?\n",
        "Are there any insights that lead to negative growth? Justify with specific reason."
      ],
      "metadata": {
        "id": "3MPXvC8up1cl"
      }
    },
    {
      "cell_type": "markdown",
      "source": [
        "Answer Here"
      ],
      "metadata": {
        "id": "GL8l1tdLp1cl"
      }
    },
    {
      "cell_type": "markdown",
      "source": [
        "#### Chart - 14 - Correlation Heatmap"
      ],
      "metadata": {
        "id": "NC_X3p0fY2L0"
      }
    },
    {
      "cell_type": "code",
      "source": [
        "# Correlation Heatmap visualization code"
      ],
      "metadata": {
        "id": "xyC9zolEZNRQ"
      },
      "execution_count": null,
      "outputs": []
    },
    {
      "cell_type": "markdown",
      "source": [
        "##### 1. Why did you pick the specific chart?"
      ],
      "metadata": {
        "id": "UV0SzAkaZNRQ"
      }
    },
    {
      "cell_type": "markdown",
      "source": [
        "Answer Here."
      ],
      "metadata": {
        "id": "DVPuT8LYZNRQ"
      }
    },
    {
      "cell_type": "markdown",
      "source": [
        "##### 2. What is/are the insight(s) found from the chart?"
      ],
      "metadata": {
        "id": "YPEH6qLeZNRQ"
      }
    },
    {
      "cell_type": "markdown",
      "source": [
        "Answer Here"
      ],
      "metadata": {
        "id": "bfSqtnDqZNRR"
      }
    },
    {
      "cell_type": "markdown",
      "source": [
        "#### Chart - 15 - Pair Plot"
      ],
      "metadata": {
        "id": "q29F0dvdveiT"
      }
    },
    {
      "cell_type": "code",
      "source": [
        "# Pair Plot visualization code"
      ],
      "metadata": {
        "id": "o58-TEIhveiU"
      },
      "execution_count": null,
      "outputs": []
    },
    {
      "cell_type": "markdown",
      "source": [
        "##### 1. Why did you pick the specific chart?"
      ],
      "metadata": {
        "id": "EXh0U9oCveiU"
      }
    },
    {
      "cell_type": "markdown",
      "source": [
        "Answer Here."
      ],
      "metadata": {
        "id": "eMmPjTByveiU"
      }
    },
    {
      "cell_type": "markdown",
      "source": [
        "##### 2. What is/are the insight(s) found from the chart?"
      ],
      "metadata": {
        "id": "22aHeOlLveiV"
      }
    },
    {
      "cell_type": "markdown",
      "source": [
        "Answer Here"
      ],
      "metadata": {
        "id": "uPQ8RGwHveiV"
      }
    },
    {
      "cell_type": "markdown",
      "source": [
        "## **5. Solution to Business Objective**"
      ],
      "metadata": {
        "id": "JcMwzZxoAimU"
      }
    },
    {
      "cell_type": "markdown",
      "source": [
        "#### What do you suggest the client to achieve Business Objective ?\n",
        "Explain Briefly."
      ],
      "metadata": {
        "id": "8G2x9gOozGDZ"
      }
    },
    {
      "cell_type": "markdown",
      "source": [
        "Answer Here."
      ],
      "metadata": {
        "id": "pASKb0qOza21"
      }
    },
    {
      "cell_type": "markdown",
      "source": [
        "# **Conclusion**"
      ],
      "metadata": {
        "id": "gCX9965dhzqZ"
      }
    },
    {
      "cell_type": "markdown",
      "source": [
        "Write the conclusion here."
      ],
      "metadata": {
        "id": "Fjb1IsQkh3yE"
      }
    },
    {
      "cell_type": "markdown",
      "source": [
        "### ***Hurrah! You have successfully completed your EDA Capstone Project !!!***"
      ],
      "metadata": {
        "id": "gIfDvo9L0UH2"
      }
    }
  ]
}